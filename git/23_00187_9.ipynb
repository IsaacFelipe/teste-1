{
  "cells": [
    {
      "cell_type": "markdown",
      "metadata": {
        "id": "oNAE5ZPfjt3g"
      },
      "source": [
        "#**TTI103 - Lógica de Programação**\n",
        "\n",
        "#**Aula L23 - Atividade A2**\n",
        "\n",
        "#**Prof. Vitor Alex - SUB2 / T01 - 28.05.2025 - 09h30**"
      ]
    },
    {
      "cell_type": "markdown",
      "metadata": {
        "id": "v9WCpnd-qtLX"
      },
      "source": [
        "# Instruções\n",
        "A Atividade A2:\n",
        "* cobre os assuntos estudados nas aulas L13 até L22.\n",
        "* pode ser realizada em duplas.\n",
        "* consta de cinco exercícios:\n",
        "  * Exercício 01 - Valor 2,0 pontos;\n",
        "  * Exercício 02 - Valor 2,0 pontos;\n",
        "  * Exercício 03 - Valor 2,0 pontos;\n",
        "  * Exercício 04 - Valor 2,0 pontos;\n",
        "  * Exercício 05 - Valor 2,0 pontos;\n",
        "* deve ser enviada ao ambiente Canvas por apenas um dos integrantes da equipe.\n"
      ]
    },
    {
      "cell_type": "markdown",
      "metadata": {
        "id": "1Iie7NE8pkFd"
      },
      "source": [
        "#Identificação\n",
        "A atividade será realizada em duplas. Favor identificar a tarefa com nome completo e RA de cada integrante da equipe."
      ]
    },
    {
      "cell_type": "code",
      "execution_count": null,
      "metadata": {
        "id": "rGI7vP0Ajsob"
      },
      "outputs": [],
      "source": [
        "# @title Nome - 1º Integrante:\n",
        "Nome1 = \"\" # @param {type:\"string\"}\n"
      ]
    },
    {
      "cell_type": "code",
      "execution_count": null,
      "metadata": {
        "id": "UnY5L7gCqUkV"
      },
      "outputs": [],
      "source": [
        "# @title RA - 1º Integrante:\n",
        "RA1 = \"\" # @param {type:\"string\"}\n"
      ]
    },
    {
      "cell_type": "code",
      "execution_count": null,
      "metadata": {
        "id": "tJwGc4L-q0X4"
      },
      "outputs": [],
      "source": [
        "# @title Nome - 2º Integrante:\n",
        "Nome2 = \"\" # @param {type:\"string\"}\n"
      ]
    },
    {
      "cell_type": "code",
      "execution_count": null,
      "metadata": {
        "id": "PRb_skA9q9fh"
      },
      "outputs": [],
      "source": [
        "# @title RA - 2º Integrante:\n",
        "RA2 = \"\" # @param {type:\"string\"}\n"
      ]
    },
    {
      "cell_type": "markdown",
      "metadata": {
        "id": "yHnnxSvFrggG"
      },
      "source": [
        "#**Exercício 01**\n",
        "**(Valor: 2,0 pts)** O *Índice de Massa Corporal* - IMC - é uma medida simples usada para estimar se uma pessoa está com o peso adequado em relação à sua altura. Ele é calculado com a fórmula:\n",
        "\n",
        "$$ IMC = \\frac{\\text{Peso (kg)}}{\\text{[Altura (m)]}^2} $$\n",
        "\n",
        "O IMC fornece uma estimativa inicial da condição corporal de uma pessoa (baixo peso, peso normal, sobrepeso ou obesidade) e é amplamente utilizado por médicos e nutricionistas para identificar riscos associados ao peso.\n",
        "\n",
        "**a)** Escreva a função `calculo_IMC` que recebe o `peso` e a `altura` de um indivíduo e retorna o índice de massa corporal correspondente, com precisão de uma casa decimal.\n",
        "\n",
        "*Sugestão:* Use `round`."
      ]
    },
    {
      "cell_type": "code",
      "execution_count": 11,
      "metadata": {
        "colab": {
          "base_uri": "https://localhost:8080/"
        },
        "id": "NuaSyGII9RF_",
        "outputId": "cf7d07af-56a3-4391-df16-fdbb1835d57a"
      },
      "outputs": [
        {
          "name": "stdout",
          "output_type": "stream",
          "text": [
            "22.7\n",
            "34.5\n"
          ]
        }
      ],
      "source": [
        "# Ex01 - item (a)\n",
        "\n",
        "def calculo_IMC (x, y):\n",
        "    return round(x/(y**2), 1)\n",
        "\n",
        "# Testes\n",
        "print(calculo_IMC(68, 1.73))\n",
        "print(calculo_IMC(118, 1.85))"
      ]
    },
    {
      "cell_type": "markdown",
      "metadata": {
        "id": "1tBZ0VFy-EN_"
      },
      "source": [
        "Para os próximos itens, use as listas a seguir (não se esqueça de executar a célula!):"
      ]
    },
    {
      "cell_type": "code",
      "execution_count": 3,
      "metadata": {
        "id": "r4botnL2s9S5"
      },
      "outputs": [],
      "source": [
        "# Listas para o Ex01\n",
        "\n",
        "nomes = ['Alice', 'Bruno', 'Carla', 'Danilo', 'Esmeralda',\n",
        "         'Fortunato', 'Guilherme', 'Helga', 'Italo', 'Joaquim']\n",
        "pesos = [55, 85, 62, 120, 90, 71, 85, 65, 135, 100]\n",
        "alturas = [1.65, 1.75, 1.60, 1.96, 1.81, 1.70, 1.55, 1.78, 1.80, 1.90]\n"
      ]
    },
    {
      "cell_type": "markdown",
      "metadata": {
        "id": "kbC6bgjG--jB"
      },
      "source": [
        "**b)** Construa a função `dicionario_IMC` que recebe as listas `nomes`, `pesos` e `alturas` e retorna um dicionário cujas chaves são os nomes dos pacientes e os valores os seus índices de massa corporal.\n",
        "\n",
        "*Importante:* A função `dicionario_IMC` deve, obrigatoriamente, usar a função `calculo_IMC`."
      ]
    },
    {
      "cell_type": "code",
      "execution_count": 4,
      "metadata": {
        "colab": {
          "base_uri": "https://localhost:8080/"
        },
        "id": "p9NLyi9-8eAw",
        "outputId": "80526e21-9a12-4f21-b9af-e2baaa178a04"
      },
      "outputs": [
        {
          "name": "stdout",
          "output_type": "stream",
          "text": [
            "{'Alice': 20.2, 'Bruno': 27.8, 'Carla': 24.2, 'Danilo': 31.2, 'Esmeralda': 27.5, 'Fortunato': 24.6, 'Guilherme': 35.4, 'Helga': 20.5, 'Italo': 41.7, 'Joaquim': 27.7}\n"
          ]
        }
      ],
      "source": [
        "# Ex01 - item (b)\n",
        "def calculo_IMC (pesos, alturas):\n",
        "    return round(pesos/(alturas**2), 1)\n",
        "\n",
        "def dicionario_IMC(nomes, pesos, alturas):\n",
        "    return {nome: calculo_IMC(peso, altura) for nome, peso, altura in zip(nomes, pesos, alturas)}\n",
        "\n",
        "# Teste\n",
        "dic_IMC = dicionario_IMC(nomes, pesos, alturas)\n",
        "print(dic_IMC)"
      ]
    },
    {
      "cell_type": "markdown",
      "metadata": {
        "id": "FrPU6XwmAjL6"
      },
      "source": [
        "**c)** Escreva a função `ordena_IMC`, que recebe o dicionário `dic_IMC` definido no teste do item anterior e retorna um novo dicionário, com o mesmo conteúdo de `dic_IMC`, porém reescrito em ordem decrescente de *IMC*."
      ]
    },
    {
      "cell_type": "code",
      "execution_count": 8,
      "metadata": {
        "colab": {
          "base_uri": "https://localhost:8080/"
        },
        "id": "-JpzRReUBNT6",
        "outputId": "8c099409-7065-430b-f494-df0047f6994a"
      },
      "outputs": [
        {
          "name": "stdout",
          "output_type": "stream",
          "text": [
            "{'Italo': 41.7, 'Guilherme': 35.4, 'Danilo': 31.2, 'Bruno': 27.8, 'Joaquim': 27.7, 'Esmeralda': 27.5, 'Fortunato': 24.6, 'Carla': 24.2, 'Helga': 20.5, 'Alice': 20.2}\n"
          ]
        }
      ],
      "source": [
        "# Ex01 - item (c)\n",
        "\n",
        "def ordena_IMC(dic_IMC):\n",
        "    return {nomes: imc for nomes, imc in sorted(dic_IMC.items(), key=lambda item: item[1], reverse=True)}\n",
        "\n",
        "# Teste\n",
        "print(ordena_IMC(dic_IMC))"
      ]
    },
    {
      "cell_type": "markdown",
      "metadata": {
        "id": "w_vMamRst7pg"
      },
      "source": [
        "#**Exercício 02**\n",
        "\n",
        "**(Valor: 2,0 pts)** Uma empresa quer gerar nomes de usuário (*usernames*) para seus novos colaboradores a partir de uma lista com os nomes completos. Para simplificar o problema, admita que os nomes são escritos sem acentos.\n",
        "\n",
        "O *username* será composto da primeira letra do primeiro nome + sobrenome, tudo em letras minúsculas.\n",
        "\n",
        "**Exemplo:** O funcionário `Joao da Silva` deve ter username `jsilva`.\n",
        "\n",
        "**a)** Escreva a função `gerar_usename` que recebe o nome completo de um funcionário e gera seu *username*."
      ]
    },
    {
      "cell_type": "code",
      "execution_count": 13,
      "metadata": {
        "colab": {
          "base_uri": "https://localhost:8080/"
        },
        "id": "GArN9lgWzTQu",
        "outputId": "b775ff43-2d10-4ebd-ea4a-2706d7019289"
      },
      "outputs": [
        {
          "name": "stdout",
          "output_type": "stream",
          "text": [
            "jsilva\n",
            "hjackman\n",
            "zzé\n",
            "zcamargo\n"
          ]
        }
      ],
      "source": [
        "# Ex02 - item (a)\n",
        "\n",
        "\n",
        "def gerar_username(nome_completo):\n",
        "  partes = nome_completo.lower().split()\n",
        "  primeiro_nome = partes [0]\n",
        "  sobrenome = partes [-1]\n",
        "  username = primeiro_nome[0] + sobrenome\n",
        "  return username\n",
        "\n",
        "# Testes\n",
        "print(gerar_username('Joao da Silva'))\n",
        "print(gerar_username('Hugh Jackman'))\n",
        "print(gerar_username('zé zé'))\n",
        "print(gerar_username('zé zé de camargo'))"
      ]
    },
    {
      "cell_type": "markdown",
      "metadata": {
        "id": "cEjvcZ4YFCqU"
      },
      "source": [
        "**b)** Execute a célula a seguir:"
      ]
    },
    {
      "cell_type": "code",
      "execution_count": 14,
      "metadata": {
        "id": "HAvuhSqnFUZL"
      },
      "outputs": [],
      "source": [
        "# Lista para o Ex02\n",
        "nomes_completos = ['Joao da Silva', 'Maria Jose Pereira', 'Erica dos Santos',\n",
        "    'Carlos Alberto Souza', 'Julia Andrade', 'Renato Lima',\n",
        "    'Ana Claudia Mendes', 'Pedro Henrique Costa', 'Fabio Teixeira',\n",
        "    'Joana D’Arc Rocha']"
      ]
    },
    {
      "cell_type": "markdown",
      "metadata": {
        "id": "Lk0oNRBKFnol"
      },
      "source": [
        "Construa a função `funcionarios_usernames` que recebe a lista `nomes_completos` e retorna um dicionário em que as chaves são os nomes completos dos funcionários e em que os valores são os respectivos *usernames* gerados pela função `gerar_username`."
      ]
    },
    {
      "cell_type": "code",
      "execution_count": null,
      "metadata": {
        "colab": {
          "base_uri": "https://localhost:8080/"
        },
        "id": "2QHgg3fnGK_z",
        "outputId": "aa95b805-10d8-4f14-a514-cf1528d14ab1"
      },
      "outputs": [
        {
          "name": "stdout",
          "output_type": "stream",
          "text": [
            "{'Joao da Silva': 'jsilva', 'Maria Jose Pereira': 'mpereira', 'Erica dos Santos': 'esantos', 'Carlos Alberto Souza': 'csouza', 'Julia Andrade': 'jandrade', 'Renato Lima': 'rlima', 'Ana Claudia Mendes': 'amendes', 'Pedro Henrique Costa': 'pcosta', 'Fabio Teixeira': 'fteixeira', 'Joana D’Arc Rocha': 'jrocha'}\n"
          ]
        }
      ],
      "source": [
        "# Ex02 - item (b)\n",
        "def gerar_username(nome_completos):\n",
        "  partes = nome_completos.lower().split()\n",
        "  primeiro_nome = partes [0]\n",
        "  sobrenome = partes [-1]\n",
        "  username = primeiro_nome[0] + sobrenome\n",
        "  return username\n",
        "\n",
        "def funcionarios_usernames(nomes_completos):\n",
        "  return {nome: gerar_username(nome) for nome in nomes_completos}\n",
        "\n",
        "# Teste\n",
        "print(funcionarios_usernames(nomes_completos))"
      ]
    },
    {
      "cell_type": "markdown",
      "metadata": {
        "id": "YnRB-l7U1qX6"
      },
      "source": [
        "#**Exercício 03**\n",
        "\n",
        "**(Valor: 2,0 pts)** Uma lista é chamada de **simétrica** se ela puder ser lida da mesma forma da esquerda para a direita e da direita para a esquerda.\n",
        "\n",
        "**Exemplos:**\n",
        "\n",
        "`[1, 2, 3, 2, 1]` → simétrica\n",
        "\n",
        "`[4, 5, 6]` → não simétrica\n",
        "\n",
        "Crie uma função recursiva chamada `simetrica(lista)` que recebe uma lista e retorna `True` se ela for simétrica e `False` caso contrário.\n",
        "\n",
        "**Restrições:**\n",
        "\n",
        "- Você deve usar recursividade (sem laços `for` ou `while`).\n",
        "\n",
        "- A função deve funcionar para listas de qualquer tipo de dado (números, *strings*, etc).\n",
        "\n",
        "**Sugestão:**\n",
        "\n",
        "Use a ideia de comparar os extremos da `lista` (ou seja, `lista[0]` e `lista[-1]`) e fazer uma chamada recursiva com o \"miolo\" (`lista[1:-1]`)."
      ]
    },
    {
      "cell_type": "code",
      "execution_count": null,
      "metadata": {
        "colab": {
          "base_uri": "https://localhost:8080/"
        },
        "id": "rbBisLdA0HmN",
        "outputId": "bae67645-007e-4493-c351-8270353a66bc"
      },
      "outputs": [
        {
          "name": "stdout",
          "output_type": "stream",
          "text": [
            "True\n",
            "True\n",
            "False\n",
            "True\n",
            "True\n"
          ]
        }
      ],
      "source": [
        "# Ex 03\n",
        "\n",
        "def simetrica(lista):\n",
        "    if len(lista) <= 1: \n",
        "        return True\n",
        "    \n",
        "    if lista[0] != lista[-1]:\n",
        "        return False\n",
        "    return simetrica(lista[1:-1])\n",
        "\n",
        "# Testes\n",
        "print(simetrica([1, 2, 3, 2, 1]))\n",
        "print(simetrica(['a', 'b', 'b', 'a']))\n",
        "print(simetrica(['a', 'b', 'c']))\n",
        "print(simetrica(['abacaxi'])) \n",
        "print(simetrica([]))"
      ]
    },
    {
      "cell_type": "markdown",
      "metadata": {
        "id": "t_Btgg5I1riI"
      },
      "source": [
        "#**Exercício 04**\n",
        "\n",
        "**(Valor: 2,0 pts)** Para esse exercício, você vai fazer o *download* de um arquivo chamado `nomes.txt`. Para isso, execute a célula a seguir:"
      ]
    },
    {
      "cell_type": "code",
      "execution_count": 17,
      "metadata": {
        "colab": {
          "base_uri": "https://localhost:8080/",
          "height": 333
        },
        "id": "_GJD6yFK1rBp",
        "outputId": "2d5a562d-d02e-4502-8f5a-aaf809dcb08f"
      },
      "outputs": [
        {
          "name": "stderr",
          "output_type": "stream",
          "text": [
            "\n",
            "[notice] A new release of pip is available: 24.0 -> 25.1.1\n",
            "[notice] To update, run: C:\\Users\\isaac\\AppData\\Local\\Microsoft\\WindowsApps\\PythonSoftwareFoundation.Python.3.11_qbz5n2kfra8p0\\python.exe -m pip install --upgrade pip\n"
          ]
        },
        {
          "name": "stdout",
          "output_type": "stream",
          "text": [
            "Requirement already satisfied: gdown in c:\\users\\isaac\\appdata\\local\\packages\\pythonsoftwarefoundation.python.3.11_qbz5n2kfra8p0\\localcache\\local-packages\\python311\\site-packages (5.2.0)\n",
            "Requirement already satisfied: beautifulsoup4 in c:\\users\\isaac\\appdata\\local\\packages\\pythonsoftwarefoundation.python.3.11_qbz5n2kfra8p0\\localcache\\local-packages\\python311\\site-packages (from gdown) (4.13.4)\n",
            "Requirement already satisfied: filelock in c:\\users\\isaac\\appdata\\local\\packages\\pythonsoftwarefoundation.python.3.11_qbz5n2kfra8p0\\localcache\\local-packages\\python311\\site-packages (from gdown) (3.18.0)\n",
            "Requirement already satisfied: requests[socks] in c:\\users\\isaac\\appdata\\local\\packages\\pythonsoftwarefoundation.python.3.11_qbz5n2kfra8p0\\localcache\\local-packages\\python311\\site-packages (from gdown) (2.32.3)\n",
            "Requirement already satisfied: tqdm in c:\\users\\isaac\\appdata\\local\\packages\\pythonsoftwarefoundation.python.3.11_qbz5n2kfra8p0\\localcache\\local-packages\\python311\\site-packages (from gdown) (4.67.1)\n",
            "Requirement already satisfied: soupsieve>1.2 in c:\\users\\isaac\\appdata\\local\\packages\\pythonsoftwarefoundation.python.3.11_qbz5n2kfra8p0\\localcache\\local-packages\\python311\\site-packages (from beautifulsoup4->gdown) (2.7)\n",
            "Requirement already satisfied: typing-extensions>=4.0.0 in c:\\users\\isaac\\appdata\\local\\packages\\pythonsoftwarefoundation.python.3.11_qbz5n2kfra8p0\\localcache\\local-packages\\python311\\site-packages (from beautifulsoup4->gdown) (4.13.2)\n",
            "Requirement already satisfied: charset-normalizer<4,>=2 in c:\\users\\isaac\\appdata\\local\\packages\\pythonsoftwarefoundation.python.3.11_qbz5n2kfra8p0\\localcache\\local-packages\\python311\\site-packages (from requests[socks]->gdown) (3.4.2)\n",
            "Requirement already satisfied: idna<4,>=2.5 in c:\\users\\isaac\\appdata\\local\\packages\\pythonsoftwarefoundation.python.3.11_qbz5n2kfra8p0\\localcache\\local-packages\\python311\\site-packages (from requests[socks]->gdown) (3.10)\n",
            "Requirement already satisfied: urllib3<3,>=1.21.1 in c:\\users\\isaac\\appdata\\local\\packages\\pythonsoftwarefoundation.python.3.11_qbz5n2kfra8p0\\localcache\\local-packages\\python311\\site-packages (from requests[socks]->gdown) (2.4.0)\n",
            "Requirement already satisfied: certifi>=2017.4.17 in c:\\users\\isaac\\appdata\\local\\packages\\pythonsoftwarefoundation.python.3.11_qbz5n2kfra8p0\\localcache\\local-packages\\python311\\site-packages (from requests[socks]->gdown) (2025.4.26)\n",
            "Requirement already satisfied: PySocks!=1.5.7,>=1.5.6 in c:\\users\\isaac\\appdata\\local\\packages\\pythonsoftwarefoundation.python.3.11_qbz5n2kfra8p0\\localcache\\local-packages\\python311\\site-packages (from requests[socks]->gdown) (1.7.1)\n",
            "Requirement already satisfied: colorama in c:\\users\\isaac\\appdata\\local\\packages\\pythonsoftwarefoundation.python.3.11_qbz5n2kfra8p0\\localcache\\local-packages\\python311\\site-packages (from tqdm->gdown) (0.4.6)\n"
          ]
        },
        {
          "name": "stderr",
          "output_type": "stream",
          "text": [
            "Downloading...\n",
            "From: https://drive.google.com/uc?id=1qB5I-K_rIcm7zg70uGi7zvP9ILEiIUQ3\n",
            "To: c:\\Users\\isaac\\OneDrive\\Área de Trabalho\\Pasta isaac\\TudoPython\\nomes.txt\n",
            "100%|██████████| 291/291 [00:00<?, ?B/s] \n"
          ]
        },
        {
          "data": {
            "text/plain": [
              "'nomes.txt'"
            ]
          },
          "execution_count": 17,
          "metadata": {},
          "output_type": "execute_result"
        }
      ],
      "source": [
        "# Download de arquivo\n",
        "!pip install gdown\n",
        "import gdown\n",
        "\n",
        "file_id = '1qB5I-K_rIcm7zg70uGi7zvP9ILEiIUQ3'\n",
        "output_file = 'nomes.txt'\n",
        "gdown.download(f'https://drive.google.com/uc?id={file_id}', output_file)"
      ]
    },
    {
      "cell_type": "markdown",
      "metadata": {
        "id": "fNQX03Zi2lJv"
      },
      "source": [
        "O arquivo `nomes.txt` contém uma lista de nomes completos, um por linha. Alguns nomes estão com acentuação, letras maiúsculas e espaços desnecessários (verifique ao clicar sobre nome do arquivo no menu \"Arquivos\" - ícone de pasta - à esquerda desse Colab Notebook!)\n",
        "\n",
        "**a)** Crie uma função `normalizar_nome` que recebe um `nome`, possivelmente fora de padrão, e o normalize:\n",
        "\n",
        "- removendo acentos (deixa que essa parte eu faço para você! execute a célula seguinte);\n",
        "- removendo espaços desnecessários;\n",
        "- colocando as iniciais em maiúsculas e o restante em minúsculas (exemplo: `joao da silva` → `Joao Da Silva`)."
      ]
    },
    {
      "cell_type": "code",
      "execution_count": 4,
      "metadata": {
        "colab": {
          "base_uri": "https://localhost:8080/"
        },
        "id": "PN4qspFJO5nu",
        "outputId": "c002aca7-20e2-48ae-a6e3-79ba6f22fbcb"
      },
      "outputs": [
        {
          "name": "stdout",
          "output_type": "stream",
          "text": [
            "Requirement already satisfied: unidecode in c:\\users\\isaac\\appdata\\local\\packages\\pythonsoftwarefoundation.python.3.11_qbz5n2kfra8p0\\localcache\\local-packages\\python311\\site-packages (1.4.0)\n"
          ]
        },
        {
          "name": "stderr",
          "output_type": "stream",
          "text": [
            "\n",
            "[notice] A new release of pip is available: 24.0 -> 25.1.1\n",
            "[notice] To update, run: C:\\Users\\isaac\\AppData\\Local\\Microsoft\\WindowsApps\\PythonSoftwareFoundation.Python.3.11_qbz5n2kfra8p0\\python.exe -m pip install --upgrade pip\n"
          ]
        }
      ],
      "source": [
        "# Módulo para tratamento de acentos\n",
        "!pip install unidecode\n",
        "from unidecode import unidecode"
      ]
    },
    {
      "cell_type": "code",
      "execution_count": 3,
      "metadata": {
        "colab": {
          "base_uri": "https://localhost:8080/"
        },
        "id": "Sv0IagPMg86x",
        "outputId": "0f1e2f20-86d9-4ef7-a175-8c7b7f5fa820"
      },
      "outputs": [
        {
          "name": "stdout",
          "output_type": "stream",
          "text": [
            "Joaquim Silverio\n",
            "Maria Das Gracas Mourao\n"
          ]
        }
      ],
      "source": [
        "# Ex04 - item (a)\n",
        "\n",
        "def normalizar_nome(nome):\n",
        "    nome = unidecode(nome.strip())\n",
        "    return ' '.join(palavra.capitalize() for palavra in nome.split())\n",
        "\n",
        "# Testes\n",
        "print(normalizar_nome('   joaquim Silvério'))\n",
        "print(normalizar_nome('Maria das graças      Mourão'))"
      ]
    },
    {
      "cell_type": "markdown",
      "metadata": {
        "id": "FDsYZMtlg-to"
      },
      "source": [
        "**b)** Construa a função `obter_nomes_ordenados` que recebe o nome de um arquivo que contém nomes completos e retorna uma lista com os nomes normalizados em ordem alfabética.\n",
        "\n",
        "**Importante:** Note que a função deve ler o conteúdo do arquivo `nomes.txt` (verifique linhas de teste!) e processar todos os nomes nele contidos. Use a função `normalizar_nome`."
      ]
    },
    {
      "cell_type": "code",
      "execution_count": null,
      "metadata": {
        "colab": {
          "base_uri": "https://localhost:8080/"
        },
        "id": "FsI2a14zhXPQ",
        "outputId": "f5fe4ec2-d09e-4f31-a799-346bb01b7bba"
      },
      "outputs": [
        {
          "name": "stdout",
          "output_type": "stream",
          "text": [
            "['Ana Lucia Rodrigues', 'Beatriz Campos', 'Carlos Alberto Souza', 'Erica Dos Santos', 'Fernando Lima', 'Icaro Monteiro', 'Joao Da Silva', 'Julia Andrade', 'Laura Nascimento', 'Luiz Fernando Almeida', 'Marcelo Dias', 'Maria Jose Pereira', 'Paulo Henrique Costa', 'Roberto Fonseca', 'Tania Silveira']\n"
          ]
        }
      ],
      "source": [
        "# Ex04 - item (b)\n",
        "def obter_nomes_ordenados(nome_arquivo):\n",
        "    with open(nome_arquivo, 'r', encoding='utf-8') as arquivo:\n",
        "        return sorted([normalizar_nome(linha) for linha in arquivo])\n",
        "\n",
        "# Teste\n",
        "lista_nomes = obter_nomes_ordenados('nomes.txt')\n",
        "print(lista_nomes)"
      ]
    },
    {
      "cell_type": "markdown",
      "metadata": {
        "id": "LxFa6LfXiSMP"
      },
      "source": [
        "#**Exercício 05**\n",
        "\n",
        "**(Valor: 2,0 pts)** Você deve criar um pequeno sistema de catálogo de produtos, usando uma lista de dicionários, onde cada produto tem:\n",
        "\n",
        "- `nome`: nome do produto (`string`)\n",
        "\n",
        "- `preco`: preço em reais (`float`)\n",
        "\n",
        "- `categoria`: tipo do produto (`string`)\n",
        "\n",
        "Em seguida, o programa deve permitir ao usuário:\n",
        "\n",
        "- Filtrar os produtos por uma palavra-chave no nome (ex: \"arroz\").\n",
        "\n",
        "- Listar os produtos por categoria, organizados por preço crescente.\n",
        "\n",
        "- Buscar o produto mais caro e o mais barato do catálogo.\n",
        "\n",
        "Para realizar essas tarefas, vamos empregar a lista de dicionários a seguir e implementar algumas funções."
      ]
    },
    {
      "cell_type": "code",
      "execution_count": 38,
      "metadata": {
        "id": "Jfs_lHhma0VD"
      },
      "outputs": [],
      "source": [
        "produtos = [\n",
        "    {'nome': 'Arroz Integral', 'preco': 5.90, 'categoria': 'Alimentos'},\n",
        "    {'nome': 'Feijão Carioca', 'preco': 6.30, 'categoria': 'Alimentos'},\n",
        "    {'nome': 'Macarrão Penne', 'preco': 4.20, 'categoria': 'Alimentos'},\n",
        "    {'nome': 'Azeite de Oliva', 'preco': 17.90, 'categoria': 'Alimentos'},\n",
        "    {'nome': 'Café Torrado', 'preco': 9.80, 'categoria': 'Alimentos'},\n",
        "    {'nome': 'Shampoo Neutro', 'preco': 12.50, 'categoria': 'Higiene'},\n",
        "    {'nome': 'Sabonete de Coco', 'preco': 2.90, 'categoria': 'Higiene'},\n",
        "    {'nome': 'Creme Dental Menta', 'preco': 3.50, 'categoria': 'Higiene'},\n",
        "    {'nome': 'Desodorante Spray', 'preco': 8.70, 'categoria': 'Higiene'},\n",
        "    {'nome': 'Fio Dental 50m', 'preco': 5.60, 'categoria': 'Higiene'},\n",
        "    {'nome': 'Detergente Limão', 'preco': 3.50, 'categoria': 'Limpeza'},\n",
        "    {'nome': 'Sabão em Barra', 'preco': 4.00, 'categoria': 'Limpeza'},\n",
        "    {'nome': 'Desinfetante Pinho', 'preco': 6.25, 'categoria': 'Limpeza'},\n",
        "    {'nome': 'Esponja Multiuso', 'preco': 1.90, 'categoria': 'Limpeza'},\n",
        "    {'nome': 'Álcool 70%', 'preco': 4.90, 'categoria': 'Limpeza'},\n",
        "    {'nome': 'Liquidificador 500W', 'preco': 149.00, 'categoria': 'Eletrodomésticos'},\n",
        "    {'nome': 'Ferro de Passar', 'preco': 89.90, 'categoria': 'Eletrodomésticos'},\n",
        "    {'nome': 'Batedeira Compacta', 'preco': 119.90, 'categoria': 'Eletrodomésticos'},\n",
        "    {'nome': 'Sanduicheira Grill', 'preco': 79.00, 'categoria': 'Eletrodomésticos'},\n",
        "    {'nome': 'Ventilador Mesa 30cm', 'preco': 159.90, 'categoria': 'Eletrodomésticos'},\n",
        "    {'nome': 'Pão de Forma', 'preco': 6.80, 'categoria': 'Alimentos'},\n",
        "    {'nome': 'Leite Integral 1L', 'preco': 4.70, 'categoria': 'Alimentos'},\n",
        "    {'nome': 'Achocolatado Pó', 'preco': 7.60, 'categoria': 'Alimentos'},\n",
        "    {'nome': 'Escova de Dente', 'preco': 3.20, 'categoria': 'Higiene'},\n",
        "    {'nome': 'Água Sanitária', 'preco': 2.50, 'categoria': 'Limpeza'},\n",
        "    {'nome': 'Arroz Agulhinha', 'preco': 5.70, 'categoria': 'Alimentos'},\n",
        "    {'nome': 'Arroz Parboilizado', 'preco': 6.10, 'categoria': 'Alimentos'},\n",
        "    {'nome': 'Feijão Preto', 'preco': 6.90, 'categoria': 'Alimentos'},\n",
        "    {'nome': 'Feijão Carioca Premium', 'preco': 7.50, 'categoria': 'Alimentos'},\n",
        "    {'nome': 'Macarrão Espaguete', 'preco': 3.90, 'categoria': 'Alimentos'},\n",
        "    {'nome': 'Macarrão Integral', 'preco': 4.80, 'categoria': 'Alimentos'},\n",
        "    {'nome': 'Azeite Extra Virgem', 'preco': 22.50, 'categoria': 'Alimentos'},\n",
        "    {'nome': 'Café Solúvel', 'preco': 10.90, 'categoria': 'Alimentos'},\n",
        "    {'nome': 'Café Torrado Tradicional', 'preco': 8.90, 'categoria': 'Alimentos'},\n",
        "    {'nome': 'Shampoo Anticaspa', 'preco': 13.40, 'categoria': 'Higiene'},\n",
        "    {'nome': 'Shampoo Infantil', 'preco': 11.30, 'categoria': 'Higiene'},\n",
        "    {'nome': 'Sabonete Neutro', 'preco': 3.10, 'categoria': 'Higiene'},\n",
        "    {'nome': 'Creme Dental Infantil', 'preco': 4.20, 'categoria': 'Higiene'},\n",
        "    {'nome': 'Desodorante Roll-on', 'preco': 7.90, 'categoria': 'Higiene'},\n",
        "    {'nome': 'Desodorante Aerosol', 'preco': 9.40, 'categoria': 'Higiene'},\n",
        "    {'nome': 'Detergente Neutro', 'preco': 3.20, 'categoria': 'Limpeza'},\n",
        "    {'nome': 'Detergente Maçã', 'preco': 3.10, 'categoria': 'Limpeza'},\n",
        "    {'nome': 'Sabão em Barra Neutro', 'preco': 4.10, 'categoria': 'Limpeza'},\n",
        "    {'nome': 'Desinfetante Lavanda', 'preco': 6.40, 'categoria': 'Limpeza'},\n",
        "    {'nome': 'Desinfetante Floral', 'preco': 6.15, 'categoria': 'Limpeza'},\n",
        "    {'nome': 'Esponja Aço Inox', 'preco': 2.90, 'categoria': 'Limpeza'},\n",
        "    {'nome': 'Álcool Gel', 'preco': 5.80, 'categoria': 'Limpeza'},\n",
        "    {'nome': 'Liquidificador Turbo 700W', 'preco': 179.90, 'categoria': 'Eletrodomésticos'},\n",
        "    {'nome': 'Ferro a Vapor', 'preco': 119.00, 'categoria': 'Eletrodomésticos'},\n",
        "    {'nome': 'Batedeira Planetária', 'preco': 219.90, 'categoria': 'Eletrodomésticos'},\n",
        "    {'nome': 'Sanduicheira Dupla', 'preco': 99.00, 'categoria': 'Eletrodomésticos'},\n",
        "    {'nome': 'Ventilador Coluna', 'preco': 189.90, 'categoria': 'Eletrodomésticos'},\n",
        "    {'nome': 'Ventilador Turbo', 'preco': 179.90, 'categoria': 'Eletrodomésticos'},\n",
        "    {'nome': 'Leite Desnatado 1L', 'preco': 4.60, 'categoria': 'Alimentos'},\n",
        "    {'nome': 'Leite Semidesnatado 1L', 'preco': 4.80, 'categoria': 'Alimentos'}\n",
        "]"
      ]
    },
    {
      "cell_type": "markdown",
      "metadata": {
        "id": "TodMclecbFTL"
      },
      "source": [
        "**a)** Elabore a função `filtrar_por_nome` que recebe a lista de produtos `lista` e a palavra-chave de busca `palavra` e retorna uma lista com os dicionários contendo todos os produtos que atendem ao critério de busca.\n",
        "\n",
        "*Sugestão:* compare a palavra-chave com o nome do produto usando caixa baixa."
      ]
    },
    {
      "cell_type": "code",
      "execution_count": 32,
      "metadata": {
        "colab": {
          "base_uri": "https://localhost:8080/"
        },
        "id": "0vVA_MKpbNZw",
        "outputId": "c07ebfbc-444d-463f-b88d-abe56a903918"
      },
      "outputs": [
        {
          "name": "stdout",
          "output_type": "stream",
          "text": [
            "Busca por 'arroz':\n",
            "{'nome': 'Arroz Integral', 'preco': 5.9, 'categoria': 'Alimentos'}\n",
            "{'nome': 'Arroz Agulhinha', 'preco': 5.7, 'categoria': 'Alimentos'}\n",
            "{'nome': 'Arroz Parboilizado', 'preco': 6.1, 'categoria': 'Alimentos'}\n",
            "\n",
            "Busca por 'shampoo':\n",
            "{'nome': 'Shampoo Neutro', 'preco': 12.5, 'categoria': 'Higiene'}\n",
            "{'nome': 'Shampoo Anticaspa', 'preco': 13.4, 'categoria': 'Higiene'}\n",
            "{'nome': 'Shampoo Infantil', 'preco': 11.3, 'categoria': 'Higiene'}\n"
          ]
        }
      ],
      "source": [
        "# Ex05 - item (a)\n",
        "\n",
        "def filtrar_por_nome(produtos, palavra):\n",
        "    return [produto for produto in produtos if palavra.lower() in produto['nome'].lower()]\n",
        "\n",
        "# Testes\n",
        "print(\"Busca por 'arroz':\")\n",
        "for prod in filtrar_por_nome(produtos, 'arroz'):\n",
        "  print(prod)\n",
        "print(\"\\nBusca por 'shampoo':\")\n",
        "for prod in filtrar_por_nome(produtos, 'shampoo'):\n",
        "  print(prod)"
      ]
    },
    {
      "cell_type": "markdown",
      "metadata": {
        "id": "KKGczAulcrY4"
      },
      "source": [
        "**b)** Escreva a função `listar_por_categoria` que recebe a lista de produtos `lista` e a *string* `categoria` (Alimentos, Eletrodomésticos, Higiene ou Limpeza) e retorna uma lista de dicionários contendo todos os produtos da respectiva `categoria`.\n",
        "\n",
        "*Sugestão:* compare a categoria do produto com a categoria procurada usando caixa baixa."
      ]
    },
    {
      "cell_type": "code",
      "execution_count": 33,
      "metadata": {
        "colab": {
          "base_uri": "https://localhost:8080/"
        },
        "id": "pf1iH7K7c2x6",
        "outputId": "09a17b25-2ad0-4db3-c677-2d0d41789e99"
      },
      "outputs": [
        {
          "name": "stdout",
          "output_type": "stream",
          "text": [
            "Produtos em 'Higiene':\n",
            "{'nome': 'Sabonete de Coco', 'preco': 2.9, 'categoria': 'Higiene'}\n",
            "{'nome': 'Sabonete Neutro', 'preco': 3.1, 'categoria': 'Higiene'}\n",
            "{'nome': 'Escova de Dente', 'preco': 3.2, 'categoria': 'Higiene'}\n",
            "{'nome': 'Creme Dental Menta', 'preco': 3.5, 'categoria': 'Higiene'}\n",
            "{'nome': 'Creme Dental Infantil', 'preco': 4.2, 'categoria': 'Higiene'}\n",
            "{'nome': 'Fio Dental 50m', 'preco': 5.6, 'categoria': 'Higiene'}\n",
            "{'nome': 'Desodorante Roll-on', 'preco': 7.9, 'categoria': 'Higiene'}\n",
            "{'nome': 'Desodorante Spray', 'preco': 8.7, 'categoria': 'Higiene'}\n",
            "{'nome': 'Desodorante Aerosol', 'preco': 9.4, 'categoria': 'Higiene'}\n",
            "{'nome': 'Shampoo Infantil', 'preco': 11.3, 'categoria': 'Higiene'}\n",
            "{'nome': 'Shampoo Neutro', 'preco': 12.5, 'categoria': 'Higiene'}\n",
            "{'nome': 'Shampoo Anticaspa', 'preco': 13.4, 'categoria': 'Higiene'}\n"
          ]
        }
      ],
      "source": [
        "# Ex05 - item (b)\n",
        "\n",
        "def listar_por_categoria(produtos, categoria):\n",
        "    return sorted([produto for produto in produtos if produto['categoria'].lower() == categoria.lower()], key=lambda x: x['preco'])\n",
        "\n",
        "# Teste\n",
        "print(\"Produtos em 'Higiene':\")\n",
        "for produtos in listar_por_categoria(produtos, 'Higiene'):\n",
        "  print(produtos)"
      ]
    },
    {
      "cell_type": "markdown",
      "metadata": {
        "id": "Wy1oMdrYeQ09"
      },
      "source": [
        "**c)** Elabore as funções `produto_mais_barato` e `produto_mais_caro` que recebem a lista de produtos `lista` e devolvem, respectivamente, o dicionário referente ao produto mais barato e ao mais caro.\n",
        "\n",
        "*Sugestão:* Use `min(lista, key=funcao)` e `max(lista, key=funcao)` em que `funcao` é uma função `lambda` que indica em que campo procurar pelo mínimo ou máximo."
      ]
    },
    {
      "cell_type": "code",
      "execution_count": 40,
      "metadata": {
        "colab": {
          "base_uri": "https://localhost:8080/"
        },
        "id": "WY6Lw3dLekGA",
        "outputId": "82943448-c7b0-47de-f615-c3d0134cf8b5"
      },
      "outputs": [
        {
          "name": "stdout",
          "output_type": "stream",
          "text": [
            "Produto mais barato: {'nome': 'Esponja Multiuso', 'preco': 1.9, 'categoria': 'Limpeza'}\n",
            "Produto mais caro: {'nome': 'Batedeira Planetária', 'preco': 219.9, 'categoria': 'Eletrodomésticos'}\n"
          ]
        }
      ],
      "source": [
        "# Ex05 - item (c)\n",
        "\n",
        "def produto_mais_barato(produtos):\n",
        "    return min(produtos, key=lambda x: x['preco'])\n",
        "\n",
        "def produto_mais_caro(produtos):\n",
        "    return max(produtos, key=lambda y: y['preco'])\n",
        "\n",
        "\n",
        "# Testes\n",
        "print(f'Produto mais barato: {produto_mais_barato(produtos)}')\n",
        "print(f'Produto mais caro: {produto_mais_caro(produtos)}')"
      ]
    }
  ],
  "metadata": {
    "colab": {
      "provenance": []
    },
    "kernelspec": {
      "display_name": "Python 3",
      "name": "python3"
    },
    "language_info": {
      "codemirror_mode": {
        "name": "ipython",
        "version": 3
      },
      "file_extension": ".py",
      "mimetype": "text/x-python",
      "name": "python",
      "nbconvert_exporter": "python",
      "pygments_lexer": "ipython3",
      "version": "3.11.9"
    }
  },
  "nbformat": 4,
  "nbformat_minor": 0
}
